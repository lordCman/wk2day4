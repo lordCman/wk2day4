{
 "cells": [
  {
   "cell_type": "markdown",
   "metadata": {},
   "source": [
    "# Object-Oriented-Programming (OOP)"
   ]
  },
  {
   "cell_type": "markdown",
   "metadata": {},
   "source": [
    "## Tasks Today:\n",
    "\n",
    "   \n",
    "\n",
    "1) <b>Creating a Class (Initializing/Declaring)</b> <br>\n",
    "2) <b>Using a Class (Instantiating)</b> <br>\n",
    " &nbsp;&nbsp;&nbsp;&nbsp; a) Creating One Instance <br>\n",
    " &nbsp;&nbsp;&nbsp;&nbsp; b) Creating Multiple Instances <br>\n",
    " &nbsp;&nbsp;&nbsp;&nbsp; c) In-Class Exercise #1 - Create a Class 'Car' and instantiate three different makes of cars <br>\n",
    "3) <b>The \\__init\\__() Method</b> <br>\n",
    " &nbsp;&nbsp;&nbsp;&nbsp; a) The 'self' Attribute <br>\n",
    "4) <b>Class Attributes</b> <br>\n",
    " &nbsp;&nbsp;&nbsp;&nbsp; a) Initializing Attributes <br>\n",
    " &nbsp;&nbsp;&nbsp;&nbsp; b) Setting an Attribute Outside of the \\__init\\__() Method <br>\n",
    " &nbsp;&nbsp;&nbsp;&nbsp; c) Setting Defaults for Attributes <br>\n",
    " &nbsp;&nbsp;&nbsp;&nbsp; d) Accessing Class Attributes <br>\n",
    " &nbsp;&nbsp;&nbsp;&nbsp; e) Changing Class Attributes <br>\n",
    " &nbsp;&nbsp;&nbsp;&nbsp; f) In-Class Exercise #2 - Add a color and wheels attribute to your 'Car' class <br>\n",
    "5) <b>Class Methods</b> <br>\n",
    " &nbsp;&nbsp;&nbsp;&nbsp; a) Creating <br>\n",
    " &nbsp;&nbsp;&nbsp;&nbsp; b) Calling <br>\n",
    " &nbsp;&nbsp;&nbsp;&nbsp; c) Modifying an Attribute's Value Through a Method <br>\n",
    " &nbsp;&nbsp;&nbsp;&nbsp; d) Incrementing an Attribute's Value Through a Method <br>\n",
    " &nbsp;&nbsp;&nbsp;&nbsp; e) In-Class Exercise #3 - Add a method that prints the cars color and wheel number, then call them <br>\n",
    "6) <b>Inheritance</b> <br>\n",
    " &nbsp;&nbsp;&nbsp;&nbsp; a) Syntax for Inheriting from a Parent Class <br>\n",
    " &nbsp;&nbsp;&nbsp;&nbsp; b) The \\__init\\__() Method for a Child Class (super()) <br>\n",
    " &nbsp;&nbsp;&nbsp;&nbsp; c) Defining Attributes and Methods for the Child Class <br>\n",
    " &nbsp;&nbsp;&nbsp;&nbsp; d) Method Overriding <br>\n",
    " &nbsp;&nbsp;&nbsp;&nbsp; e) In-Class Exercise #4 - Create a class 'Ford' that inherits from 'Car' class and initialize it as a Blue Ford Explorer with 4 wheels using the super() method <br>\n",
    "7) <b>Classes as Attributes</b> <br>\n",
    "8) <b>Exercises</b> <br>\n",
    " &nbsp;&nbsp;&nbsp;&nbsp; a) Exercise #1 - Turn the shopping cart program from yesterday into an object-oriented program <br>"
   ]
  },
  {
   "cell_type": "markdown",
   "metadata": {},
   "source": [
    "## Creating a Class (Initializing/Declaring)\n",
    "<p>When creating a class, function, or even a variable you are initializing that object. Initializing and Declaring occur at the same time in Python, whereas in lower level languages you have to declare an object before initializing it. This is the first step in the process of using a class.</p>"
   ]
  },
  {
   "cell_type": "code",
   "execution_count": 7,
   "metadata": {},
   "outputs": [],
   "source": [
    "\n",
    "\n",
    "# class Car():\n",
    "#     wheels = 4\n",
    "#     color = 'blue'"
   ]
  },
  {
   "cell_type": "markdown",
   "metadata": {},
   "source": [
    "## Using a Class (Instantiating)\n",
    "<p>The process of creating a class is called <i>Instantiating</i>. Each time you create a variable of that type of class, it is referred to as an <i>Instance</i> of that class. This is the second step in the process of using a class.</p>"
   ]
  },
  {
   "cell_type": "markdown",
   "metadata": {},
   "source": [
    "##### Creating One Instance"
   ]
  },
  {
   "cell_type": "code",
   "execution_count": 10,
   "metadata": {},
   "outputs": [],
   "source": [
    "car1 = Car()\n",
    "car2 = Car()\n",
    "car3 = Car()\n",
    "car4 = Car()\n",
    "\n",
    "c3.color = \"red\"\n",
    "\n"
   ]
  },
  {
   "cell_type": "markdown",
   "metadata": {},
   "source": [
    "##### Creating Multiple Instances"
   ]
  },
  {
   "cell_type": "code",
   "execution_count": null,
   "metadata": {},
   "outputs": [],
   "source": []
  },
  {
   "cell_type": "markdown",
   "metadata": {},
   "source": [
    "##### In-Class Exercise #1 - Create a Class 'Car' and Instantiate three different makes of cars"
   ]
  },
  {
   "cell_type": "code",
   "execution_count": 16,
   "metadata": {},
   "outputs": [
    {
     "name": "stdout",
     "output_type": "stream",
     "text": [
      "ford honda chevy\n"
     ]
    }
   ],
   "source": [
    "make = Car()\n",
    "\n",
    "car2.make = \"honda\"\n",
    "\n",
    "car3.make = \"ford\"\n",
    "car4.make = \"chevy\"\n",
    "print(car3.make, car2.make, car4.make)"
   ]
  },
  {
   "cell_type": "markdown",
   "metadata": {},
   "source": [
    "## The \\__init\\__() Method <br>\n",
    "<p>This method is used in almost every created class, and called only once upon the creation of the class instance. This method will initialize all variables needed for the object.</p>"
   ]
  },
  {
   "cell_type": "code",
   "execution_count": 22,
   "metadata": {},
   "outputs": [
    {
     "name": "stdout",
     "output_type": "stream",
     "text": [
      "4\n",
      "black\n",
      "3\n",
      "mazda\n",
      "2016\n",
      "this is a black 2016 mazda 3.\n"
     ]
    }
   ],
   "source": [
    "class Car():\n",
    "    \n",
    "    wheels = 4\n",
    "    \n",
    "    def __init__(self, c, make, model, year):  # aka the constructor\n",
    "        self.color = c\n",
    "        self.make = make\n",
    "        self.model = model\n",
    "        self.year = year\n",
    "    \n",
    "    \n",
    "    def printInfo(self):\n",
    "        print(f\"this is a {self.color} {self.year} {self.make} {self.model}.\")\n",
    "        \n",
    "car1 = Car(\"black\", \"mazda\", \"3\", 2016)\n",
    "print(car1.wheels)\n",
    "print(car1.color)\n",
    "print(car1.model)\n",
    "print(car1.make)\n",
    "print(car1.year)\n",
    "\n",
    "\n",
    "car1.printInfo()\n",
    "        \n",
    "# self is necessary"
   ]
  },
  {
   "cell_type": "markdown",
   "metadata": {},
   "source": [
    "##### The 'self' Attribute <br>\n",
    "<p>This attribute is required to keep track of specific instance's attributes. Without the self attribute, the program would not know how to reference or keep track of an instance's attributes.</p>"
   ]
  },
  {
   "cell_type": "code",
   "execution_count": null,
   "metadata": {},
   "outputs": [],
   "source": [
    "# see above"
   ]
  },
  {
   "cell_type": "markdown",
   "metadata": {},
   "source": [
    "## Class Attributes <br>\n",
    "<p>While variables are inside of a class, they are referred to as attributes and not variables. When someone says 'attribute' you know they're speaking about a class. Attributes can be initialized through the init method, or outside of it.</p>"
   ]
  },
  {
   "cell_type": "markdown",
   "metadata": {},
   "source": [
    "##### Initializing Attributes"
   ]
  },
  {
   "cell_type": "code",
   "execution_count": null,
   "metadata": {},
   "outputs": [],
   "source": [
    "# see above"
   ]
  },
  {
   "cell_type": "markdown",
   "metadata": {},
   "source": [
    "##### Accessing Class Attributes"
   ]
  },
  {
   "cell_type": "code",
   "execution_count": null,
   "metadata": {
    "scrolled": true
   },
   "outputs": [],
   "source": [
    "# See Above"
   ]
  },
  {
   "cell_type": "markdown",
   "metadata": {},
   "source": [
    "##### Setting Defaults for Attributes"
   ]
  },
  {
   "cell_type": "code",
   "execution_count": null,
   "metadata": {},
   "outputs": [],
   "source": [
    "class Car():\n",
    "    # this works. define in class scope but not best way\n",
    "    wheels = 4\n",
    "    \n",
    "    def __init__(self, c, make, model, year):  # aka the constructor\n",
    "        self.color = c\n",
    "        self.make = make\n",
    "        self.model = model\n",
    "        self.year = year\n",
    "    \n",
    "    \n",
    "    def printInfo(self):\n",
    "        print(f\"this is a {self.color} {self.year} {self.make} {self.model}.\")"
   ]
  },
  {
   "cell_type": "markdown",
   "metadata": {},
   "source": [
    "##### Changing Class Attributes <br>\n",
    "<p>Keep in mind there are global class attributes and then there are attributes only available to each class instance which won't effect other classes.</p>"
   ]
  },
  {
   "cell_type": "code",
   "execution_count": null,
   "metadata": {},
   "outputs": [],
   "source": [
    "# see above\n"
   ]
  },
  {
   "cell_type": "code",
   "execution_count": null,
   "metadata": {},
   "outputs": [],
   "source": []
  },
  {
   "cell_type": "markdown",
   "metadata": {},
   "source": [
    "##### In-Class Exercise #2 - Add a doors and seats attribute to your 'Car' class then print out two different instances with different doors and seats"
   ]
  },
  {
   "cell_type": "code",
   "execution_count": 24,
   "metadata": {},
   "outputs": [
    {
     "ename": "TypeError",
     "evalue": "__init__() missing 2 required positional arguments: 'model' and 'year'",
     "output_type": "error",
     "traceback": [
      "\u001b[1;31m---------------------------------------------------------------------------\u001b[0m",
      "\u001b[1;31mTypeError\u001b[0m                                 Traceback (most recent call last)",
      "Input \u001b[1;32mIn [24]\u001b[0m, in \u001b[0;36m<cell line: 1>\u001b[1;34m()\u001b[0m\n\u001b[1;32m----> 1\u001b[0m doors \u001b[38;5;241m=\u001b[39m \u001b[43mCar\u001b[49m\u001b[43m(\u001b[49m\u001b[38;5;241;43m2\u001b[39;49m\u001b[43m,\u001b[49m\u001b[38;5;241;43m2\u001b[39;49m\u001b[43m)\u001b[49m\n\u001b[0;32m      2\u001b[0m seats \u001b[38;5;241m=\u001b[39m Car(\u001b[38;5;241m4\u001b[39m,\u001b[38;5;241m4\u001b[39m)\n\u001b[0;32m      3\u001b[0m car3 \u001b[38;5;241m=\u001b[39m Car(\u001b[38;5;124m\"\u001b[39m\u001b[38;5;124mblue\u001b[39m\u001b[38;5;124m\"\u001b[39m, \u001b[38;5;124m\"\u001b[39m\u001b[38;5;124mhonda\u001b[39m\u001b[38;5;124m\"\u001b[39m, \u001b[38;5;124m\"\u001b[39m\u001b[38;5;124maccord\u001b[39m\u001b[38;5;124m\"\u001b[39m, \u001b[38;5;241m1999\u001b[39m,)\n",
      "\u001b[1;31mTypeError\u001b[0m: __init__() missing 2 required positional arguments: 'model' and 'year'"
     ]
    }
   ],
   "source": []
  },
  {
   "cell_type": "markdown",
   "metadata": {},
   "source": [
    "## Class Methods <br>\n",
    "<p>While inside of a class, functions are referred to as 'methods'. If you hear someone mention methods, they're speaking about classes. Methods are essentially functions, but only callable on the instances of a class.</p>"
   ]
  },
  {
   "cell_type": "markdown",
   "metadata": {},
   "source": [
    "##### Creating"
   ]
  },
  {
   "cell_type": "code",
   "execution_count": 28,
   "metadata": {},
   "outputs": [
    {
     "name": "stdout",
     "output_type": "stream",
     "text": [
      "brandt carlsonn\n",
      "90000\n",
      "94500\n",
      "brandt carlsonn\n",
      "brandt carlson\n"
     ]
    }
   ],
   "source": [
    "class Employee():\n",
    "    def __init__(self, f_name, l_name, salary = 80000):\n",
    "        self.first_name = f_name\n",
    "        self.last_name = l_name\n",
    "        self.email = (f_name + \".\" + l_name + \"@company.com\").lower()\n",
    "        self.raise_amount = 1.05\n",
    "        self.salary = salary\n",
    "        \n",
    "    #getter\n",
    "    def getFullname(self):\n",
    "        return f\"{self.first_name} {self.last_name}\"\n",
    "    \n",
    "    #setter\n",
    "    def applyRaise(self):\n",
    "        self.salary = int(self.salary * self.raise_amount)\n",
    "        \n",
    "    def changeLastname(self, l_name):\n",
    "        self.last_name = l_name\n",
    "        self.email = (self.first_name + \".\" + l_name + \"@company.com\").lower()\n",
    "        \n",
    "        \n",
    "e1 = Employee(\"charlie\", \"rodriguez\", 90000)\n",
    "e2 = Employee(\"Shoha\", \"Tsuchida\", 750000)\n",
    "e3 = Employee(\"brandt\", \"carlsonn\", 850000)        \n",
    "\n",
    "\n",
    "print(e3.getFullname())\n",
    "\n",
    "print(e1.salary)\n",
    "e1.applyRaise()\n",
    "print(e1.salary)\n",
    "\n",
    "print(e3.getFullname())\n",
    "e3.changeLastname(\"carlson\")\n",
    "print(e3.getFullname())"
   ]
  },
  {
   "cell_type": "markdown",
   "metadata": {},
   "source": [
    "##### Calling"
   ]
  },
  {
   "cell_type": "code",
   "execution_count": null,
   "metadata": {},
   "outputs": [],
   "source": [
    "# See Above"
   ]
  },
  {
   "cell_type": "markdown",
   "metadata": {},
   "source": [
    "##### Modifying an Attribute's Value Through a Method"
   ]
  },
  {
   "cell_type": "code",
   "execution_count": null,
   "metadata": {},
   "outputs": [],
   "source": [
    "# setter"
   ]
  },
  {
   "cell_type": "markdown",
   "metadata": {},
   "source": [
    "##### Incrementing an Attribute's Value Through a Method"
   ]
  },
  {
   "cell_type": "code",
   "execution_count": null,
   "metadata": {},
   "outputs": [],
   "source": [
    "# other setter"
   ]
  },
  {
   "cell_type": "markdown",
   "metadata": {},
   "source": [
    "##### In-Class Exercise #3 - Add a method that takes in three parameters of year, doors and seats and prints out a formatted print statement with make, model, year, seats, and doors"
   ]
  },
  {
   "cell_type": "code",
   "execution_count": null,
   "metadata": {},
   "outputs": [],
   "source": [
    "# Create class with 2 paramters inside of the __init__ which are make and model\n",
    "\n",
    "# Inside of the Car class create a method that has 4 parameter in total (self,year,door,seats)\n",
    "\n",
    "# Output: This car is from 2019 and is a Ford Expolorer and has 4 doors and 5 seats\n",
    "\n"
   ]
  },
  {
   "cell_type": "markdown",
   "metadata": {},
   "source": [
    "## Inheritance <br>\n",
    "<p>You can create a child-parent relationship between two classes by using inheritance. What this allows you to do is have overriding methods, but also inherit traits from the parent class. Think of it as an actual parent and child, the child will inherit the parent's genes, as will the classes in OOP</p>"
   ]
  },
  {
   "cell_type": "markdown",
   "metadata": {},
   "source": [
    "##### Syntax for Inheriting from a Parent Class"
   ]
  },
  {
   "cell_type": "code",
   "execution_count": null,
   "metadata": {},
   "outputs": [],
   "source": []
  },
  {
   "cell_type": "markdown",
   "metadata": {},
   "source": [
    "##### The \\__init\\__() Method for a Child Class - super()"
   ]
  },
  {
   "cell_type": "code",
   "execution_count": null,
   "metadata": {
    "scrolled": true
   },
   "outputs": [],
   "source": []
  },
  {
   "cell_type": "markdown",
   "metadata": {},
   "source": [
    "##### Defining Attributes and Methods for the Child Class"
   ]
  },
  {
   "cell_type": "code",
   "execution_count": null,
   "metadata": {},
   "outputs": [],
   "source": [
    "# See Above"
   ]
  },
  {
   "cell_type": "markdown",
   "metadata": {},
   "source": [
    "##### Method Overriding"
   ]
  },
  {
   "cell_type": "code",
   "execution_count": null,
   "metadata": {},
   "outputs": [],
   "source": [
    "# See Above"
   ]
  },
  {
   "cell_type": "markdown",
   "metadata": {},
   "source": [
    "## Classes as Attributes <br>\n",
    "<p>Classes can also be used as attributes within another class. This is useful in situations where you need to keep variables locally stored, instead of globally stored.</p>"
   ]
  },
  {
   "cell_type": "code",
   "execution_count": null,
   "metadata": {},
   "outputs": [],
   "source": [
    "# parent class\n",
    "class Animal():\n",
    "    def __init__(self, name, species, legs = 4):\n",
    "        self.name = name\n",
    "        self.species = species\n",
    "        self.legs = legs\n",
    "    def talk(self):\n",
    "        print(\"...\")\n",
    "    \n",
    "    def breathe(self):\n",
    "        print(\"...\")\n",
    "        \n",
    "\n",
    "class Dog(Animal):\n",
    "    def __init__(self):\n",
    "        pass\n",
    "    def talk(self):\n",
    "        print(\"woof\")"
   ]
  },
  {
   "cell_type": "markdown",
   "metadata": {},
   "source": [
    "# Exercises"
   ]
  },
  {
   "cell_type": "markdown",
   "metadata": {},
   "source": [
    "### Exercise 1 - Turn the shopping cart program from yesterday into an object-oriented program\n",
    "\n",
    "The comments in the cell below are there as a guide for thinking about the problem. However, if you feel a different way is best for you and your own thought process, please do what feels best for you by all means."
   ]
  },
  {
   "cell_type": "code",
   "execution_count": null,
   "metadata": {
    "scrolled": true
   },
   "outputs": [
    {
     "name": "stdout",
     "output_type": "stream",
     "text": [
      "What do you want to do?\n",
      "Type \"show\" to show cart\n",
      "Type \"add\" to add to cart\n",
      "Type \"remove\" to remove an item from cart\n",
      "Type \"quit\" to finish shopping\n",
      "add\n",
      "What item do you want to add to your cart?eggs\n",
      "How many of that item do you want? (enter in digits)4\n",
      "What do you want to do?\n",
      "Type \"show\" to show cart\n",
      "Type \"add\" to add to cart\n",
      "Type \"remove\" to remove an item from cart\n",
      "Type \"quit\" to finish shopping\n",
      "show\n",
      "{'eggs': 4}\n"
     ]
    }
   ],
   "source": [
    "def getQuantity():\n",
    "        quantity = input(\"How many of that item do you want? (enter in digits)\")\n",
    "        if quantity.isdigit():\n",
    "            quantity = int(quantity)\n",
    "        else:\n",
    "            print('Invalid input.. please enter a digit')\n",
    "            quantity = getQuantity()    \n",
    "        return quantity\n",
    "            \n",
    "# def addToCart(cart):\n",
    "#     item = input(\"What item do you want to add to your cart?\").lower()\n",
    "#     quantity = getQuantity()\n",
    "#     cart[item] = quantity\n",
    "#     return\n",
    "\n",
    "# def removeFromCart(cart):\n",
    "#     print(f'These are the list of items you have in your cart: {list(cart)}')\n",
    "#     item = input(\"What item do you want to remove from your cart?\").lower()\n",
    "#     if item not in cart:\n",
    "#         print('Invalid response... You do not have that item in your cart')\n",
    "#         removeFromCart(cart)\n",
    "#         return\n",
    "#     else:\n",
    "#         print(f'You have {cart[item]} {item}\\'s in your cart.. ')\n",
    "#         quantity = getQuantity()\n",
    "#         cart[item] = cart[item] - quantity\n",
    "#         if cart[item] < 0:\n",
    "#             del cart[item]\n",
    "#     return\n",
    "\n",
    "# def showCart(cart):\n",
    "#     print(cart)\n",
    "#     return\n",
    "\n",
    "def runSimulation(self):\n",
    "    \n",
    "    while True:\n",
    "        res = input('What do you want to do?\\nType \"show\" to show cart\\nType \"add\" to add to cart\\nType \"remove\" to remove an item from cart\\nType \"quit\" to finish shopping\\n')\n",
    "        if res.lower() == 'show':\n",
    "            self.show1()\n",
    "            \n",
    "        elif res.lower() == 'add':\n",
    "            self.add1()\n",
    "            \n",
    "        elif res.lower() == 'remove':\n",
    "            self.remove1()\n",
    "            \n",
    "        elif res.lower() == 'quit':\n",
    "            self.show1()\n",
    "            break\n",
    "        else:\n",
    "            print(\"Incorrect response.. please type 'Show', 'Add', 'Remove', or 'Quit' to continue with the program\")\n",
    "            \n",
    "\n",
    "\n",
    "def removeFromCart(self):\n",
    "    print(f'These are the list of items you have in your cart: {list(self.items1)}')\n",
    "    item = input(\"What item do you want to remove from your cart?\").lower()\n",
    "    if item not in self.cart:\n",
    "        print('Invalid response... You do not have that item in your cart')\n",
    "        removeFromCart(self)\n",
    "        return\n",
    "    else:\n",
    "\n",
    "        quantity = getQuantity()\n",
    "        if self.cart[0] in self.cart:\n",
    "            del self.cart\n",
    "    return\n",
    "\n",
    "def showCart(self):\n",
    "    print(self.cart)\n",
    "    return \n",
    "\n",
    "\n",
    "\n",
    "def addToCart(self):\n",
    "    item = input(\"What item do you want to add to your cart?\").lower()\n",
    "    quantity = getQuantity()\n",
    "    self.cart[item]= quantity\n",
    "    return\n",
    "\n",
    "\n",
    "\n",
    "\n",
    "class Cart():\n",
    "    \n",
    "    \n",
    "    def __init__(self):\n",
    "        self.cart = dict()\n",
    "        \n",
    "    def run1(self):\n",
    "        runSimulation(self)\n",
    "        \n",
    "            \n",
    "    def add1(x):\n",
    "        addToCart(x)\n",
    "        \n",
    "        \n",
    "    def remove1(self):\n",
    "        removeFromCart(self)\n",
    "        print(\"it has been removed\")        \n",
    "    \n",
    "    def show1(self):\n",
    "        showCart(self)\n",
    "        \n",
    "        \n",
    "        \n",
    "        \n",
    "        \n",
    "cart1 = Cart()\n",
    "cart1.run1()"
   ]
  },
  {
   "cell_type": "markdown",
   "metadata": {},
   "source": [
    "### Exercise 2 - Write a Python class which has two methods get_String and print_String. get_String accept a string from the user and print_String print the string in upper case"
   ]
  },
  {
   "cell_type": "code",
   "execution_count": 2,
   "metadata": {},
   "outputs": [
    {
     "name": "stdout",
     "output_type": "stream",
     "text": [
      "type a word eggs\n"
     ]
    },
    {
     "data": {
      "text/plain": [
       "'EGGS'"
      ]
     },
     "execution_count": 2,
     "metadata": {},
     "output_type": "execute_result"
    }
   ],
   "source": [
    "class Stringadd():\n",
    "    def __init__(self):\n",
    "        pass\n",
    "    \n",
    "    \n",
    "    def get_String(self):\n",
    "        words = input(str(\"type a word \"))\n",
    "        self.words = words\n",
    "        return \n",
    "    def print_String(self):\n",
    "        return f\"{self.words}\".upper()\n",
    "addstr = Stringadd()\n",
    "addstr.get_String()\n",
    "addstr.print_String()"
   ]
  },
  {
   "cell_type": "code",
   "execution_count": null,
   "metadata": {},
   "outputs": [],
   "source": []
  }
 ],
 "metadata": {
  "kernelspec": {
   "display_name": "Python 3.9.12 64-bit",
   "language": "python",
   "name": "python3"
  },
  "language_info": {
   "codemirror_mode": {
    "name": "ipython",
    "version": 3
   },
   "file_extension": ".py",
   "mimetype": "text/x-python",
   "name": "python",
   "nbconvert_exporter": "python",
   "pygments_lexer": "ipython3",
   "version": "3.9.12"
  },
  "vscode": {
   "interpreter": {
    "hash": "f16f8054240774e9f4dbdf6ca5ddc44904347c9d7d4214135378e6365aa0a1f3"
   }
  }
 },
 "nbformat": 4,
 "nbformat_minor": 2
}
